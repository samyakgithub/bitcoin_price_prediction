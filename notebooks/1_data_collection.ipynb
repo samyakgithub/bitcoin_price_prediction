{
 "cells": [
  {
   "cell_type": "markdown",
   "id": "6cdfa677",
   "metadata": {},
   "source": [
    "# Data Collection\n",
    "\n",
    "Download historical Bitcoin price data from Yahoo Finance using yfinance.\n"
   ]
  },
  {
   "cell_type": "code",
   "execution_count": null,
   "id": "e0a25eeb",
   "metadata": {
    "vscode": {
     "languageId": "plaintext"
    }
   },
   "outputs": [],
   "source": [
    "import yfinance as yf\n",
    "import os\n",
    "\n",
    "btc = yf.Ticker(\"BTC-USD\")\n",
    "df = btc.history(start=\"2016-01-01\")\n",
    "os.makedirs('data/raw', exist_ok=True)\n",
    "df.to_csv('data/raw/bitcoin_data.csv')\n",
    "df.head()\n"
   ]
  }
 ],
 "metadata": {
  "language_info": {
   "name": "python"
  }
 },
 "nbformat": 4,
 "nbformat_minor": 5
}
