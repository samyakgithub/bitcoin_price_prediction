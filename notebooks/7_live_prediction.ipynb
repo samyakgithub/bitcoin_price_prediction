{
 "cells": [
  {
   "cell_type": "markdown",
   "id": "f65dabb1",
   "metadata": {},
   "source": [
    "# Live Prediction Demo\n",
    "\n",
    "Fetch live Bitcoin price data and latest texts.\n",
    "Combine features and make prediction using trained model.\n"
   ]
  },
  {
   "cell_type": "code",
   "execution_count": null,
   "id": "6b734cc0",
   "metadata": {
    "vscode": {
     "languageId": "plaintext"
    }
   },
   "outputs": [],
   "source": [
    "import yfinance as yf\n",
    "from src.retrieval import TextRetriever\n",
    "from sklearn.preprocessing import StandardScaler\n",
    "import numpy as np\n",
    "\n",
    "# Fetch latest BTC data (last 30 days)\n",
    "btc = yf.Ticker(\"BTC-USD\")\n",
    "live_df = btc.history(period=\"30d\")\n",
    "\n",
    "# Preprocess and compute features (similar to preprocessing module)\n",
    "# ...\n",
    "\n",
    "# Retrieve relevant texts for latest date\n",
    "retriever = TextRetriever()\n",
    "query = \"Bitcoin latest price news\"\n",
    "retrieved_texts = retriever.retrieve(query)\n",
    "\n",
    "# Embed texts, combine features, apply scaler and model\n",
    "# X_live = combined feature vector for prediction\n",
    "# prediction = trained_model.predict(X_live)\n"
   ]
  }
 ],
 "metadata": {
  "language_info": {
   "name": "python"
  }
 },
 "nbformat": 4,
 "nbformat_minor": 5
}
