{
 "cells": [
  {
   "cell_type": "markdown",
   "id": "63b4af3f",
   "metadata": {},
   "source": [
    "# Model Building\n",
    "\n",
    "Train Logistic Regression and Random Forest classifiers on combined features.\n"
   ]
  },
  {
   "cell_type": "code",
   "execution_count": null,
   "id": "3a726b7f",
   "metadata": {
    "vscode": {
     "languageId": "plaintext"
    }
   },
   "outputs": [],
   "source": [
    "# Model Building\n",
    "\n",
    "Train Logistic Regression and Random Forest classifiers on combined features.\n"
   ]
  }
 ],
 "metadata": {
  "language_info": {
   "name": "python"
  }
 },
 "nbformat": 4,
 "nbformat_minor": 5
}
