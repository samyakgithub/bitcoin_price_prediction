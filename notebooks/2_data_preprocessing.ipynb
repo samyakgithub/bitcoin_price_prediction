{
 "cells": [
  {
   "cell_type": "markdown",
   "id": "4c077057",
   "metadata": {},
   "source": [
    "# Data Preprocessing\n",
    "\n",
    "Calculate daily returns, moving averages, RSI, MACD.\n",
    "Create binary target variable for next-day price direction."
   ]
  },
  {
   "cell_type": "code",
   "execution_count": null,
   "id": "24671401",
   "metadata": {
    "vscode": {
     "languageId": "plaintext"
    }
   },
   "outputs": [],
   "source": [
    "import pandas as pd\n",
    "from ta.momentum import RSIIndicator\n",
    "from ta.trend import MACD\n",
    "\n",
    "df = pd.read_csv('data/raw/bitcoin_data.csv', parse_dates=['Date'], index_col='Date')\n",
    "\n",
    "df['Return'] = df['Close'].pct_change()\n",
    "df['MA7'] = df['Close'].rolling(7).mean()\n",
    "df['MA21'] = df['Close'].rolling(21).mean()\n",
    "df['RSI'] = RSIIndicator(df['Close'], 14).rsi()\n",
    "macd = MACD(df['Close'])\n",
    "df['MACD'] = macd.macd()\n",
    "df['MACD_Signal'] = macd.macd_signal()\n",
    "df['Target'] = (df['Close'].shift(-1) > df['Close']).astype(int)\n",
    "df.dropna(inplace=True)\n",
    "\n",
    "df.to_csv('data/processed/bitcoin_features.csv')\n",
    "df.head()\n"
   ]
  }
 ],
 "metadata": {
  "language_info": {
   "name": "python"
  }
 },
 "nbformat": 4,
 "nbformat_minor": 5
}
