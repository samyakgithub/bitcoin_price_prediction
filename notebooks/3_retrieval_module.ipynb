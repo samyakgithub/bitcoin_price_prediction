{
 "cells": [
  {
   "cell_type": "markdown",
   "id": "1f4ab2fa",
   "metadata": {},
   "source": [
    "# Retrieval Module\n",
    "\n",
    "Load external text corpus, embed with Sentence Transformers, perform similarity-based retrieval.\n"
   ]
  },
  {
   "cell_type": "code",
   "execution_count": null,
   "id": "74d14bea",
   "metadata": {
    "vscode": {
     "languageId": "plaintext"
    }
   },
   "outputs": [],
   "source": [
    "import json\n",
    "from sentence_transformers import SentenceTransformer, util\n",
    "\n",
    "with open('data/external_texts/news_headlines.json') as f:\n",
    "    corpus = json.load(f)\n",
    "\n",
    "model = SentenceTransformer('all-MiniLM-L6-v2')\n",
    "corpus_embeddings = model.encode(corpus, convert_to_tensor=True)\n",
    "\n",
    "query = \"Bitcoin price surge\"\n",
    "query_embedding = model.encode(query, convert_to_tensor=True)\n",
    "\n",
    "cos_scores = util.cos_sim(query_embedding, corpus_embeddings)[0]\n",
    "top_results = cos_scores.topk(5)\n",
    "\n",
    "for score, idx in zip(top_results[0], top_results[1]):\n",
    "    print(f\"{score.item():.4f}: {corpus[idx]}\")\n"
   ]
  }
 ],
 "metadata": {
  "language_info": {
   "name": "python"
  }
 },
 "nbformat": 4,
 "nbformat_minor": 5
}
